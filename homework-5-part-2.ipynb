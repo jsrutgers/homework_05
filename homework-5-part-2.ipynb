{
 "cells": [
  {
   "cell_type": "markdown",
   "id": "188586cc-c5bb-445f-a371-98d22b827969",
   "metadata": {},
   "source": [
    "# Part two: A WeatherAPI alternative\n",
    "### JS Rutgers -- June 9, 2025"
   ]
  },
  {
   "cell_type": "markdown",
   "id": "a6cb054c-6c72-471e-b9d5-f869ce5d3b03",
   "metadata": {},
   "source": [
    "**Question 1:** Examine both Open Meteo and Tomorrow and decide which one you'd prefer to use. What drove your decision?"
   ]
  },
  {
   "cell_type": "markdown",
   "id": "dfefa0f9-c7df-4a2f-a29c-48e3d9b7e7f0",
   "metadata": {},
   "source": [
    "I am going to use Tomorrow, because the documentation made more sense to me, it has the fun try-it option, and it looks like way less fiddling to get it set up."
   ]
  },
  {
   "cell_type": "markdown",
   "id": "2c79811b-01a3-4046-be53-deea4e618dbc",
   "metadata": {},
   "source": [
    "**Question 2:** What is the URL to the documentation? "
   ]
  },
  {
   "cell_type": "markdown",
   "id": "65cfedfc-1864-46b1-8ad2-6b0818921037",
   "metadata": {},
   "source": [
    "Forecast documentation: <https://docs.tomorrow.io/reference/weather-forecast>  \n",
    "\n",
    "Realtime documentation: <https://docs.tomorrow.io/reference/realtime-weather> "
   ]
  },
  {
   "cell_type": "markdown",
   "id": "7e0a0135-a874-4a9b-a9e9-953414caabae",
   "metadata": {},
   "source": [
    "**Question 3:** Make a request for the current weather where you are born, or somewhere you've lived.\n",
    "(In my case, Etobicoke)"
   ]
  },
  {
   "cell_type": "code",
   "execution_count": 1,
   "id": "8880ccd0-97e7-46c4-a890-0e46e3589ecd",
   "metadata": {},
   "outputs": [],
   "source": [
    "from dotenv import load_dotenv\n",
    "import os"
   ]
  },
  {
   "cell_type": "code",
   "execution_count": 2,
   "id": "d6ac5fdf-7624-4e83-8710-9227a0599fc3",
   "metadata": {},
   "outputs": [],
   "source": [
    "import requests"
   ]
  },
  {
   "cell_type": "code",
   "execution_count": 3,
   "id": "c2f977bd-3923-4a84-9c57-8a0eb881978a",
   "metadata": {},
   "outputs": [
    {
     "data": {
      "text/plain": [
       "True"
      ]
     },
     "execution_count": 3,
     "metadata": {},
     "output_type": "execute_result"
    }
   ],
   "source": [
    "load_dotenv()"
   ]
  },
  {
   "cell_type": "code",
   "execution_count": 4,
   "id": "fa4753d5-d0a7-4ec0-8e43-98f97bff6ba4",
   "metadata": {},
   "outputs": [],
   "source": [
    "API_KEY=os.getenv('tomorrow_KEY')"
   ]
  },
  {
   "cell_type": "code",
   "execution_count": 5,
   "id": "5fd6a9ac-be95-48d9-8a05-15279dfac1de",
   "metadata": {},
   "outputs": [],
   "source": [
    "url = f\"https://api.tomorrow.io/v4/weather/realtime?location=etobicoke&apikey={API_KEY}&units=metric\"\n",
    "headers = {\n",
    "    \"accept\": \"application/json\",\n",
    "    \"accept-encoding\": \"deflate, gzip, br\"\n",
    "}\n",
    "\n",
    "response = requests.get(url, headers=headers)\n",
    "data = response.json()"
   ]
  },
  {
   "cell_type": "code",
   "execution_count": 6,
   "id": "f040bdfe-3381-4987-9cf8-dd5f0366f667",
   "metadata": {},
   "outputs": [],
   "source": [
    "#peering inside the data"
   ]
  },
  {
   "cell_type": "code",
   "execution_count": 7,
   "id": "7f944481-4d83-4b64-900a-a0e30eaace73",
   "metadata": {},
   "outputs": [
    {
     "data": {
      "text/plain": [
       "dict"
      ]
     },
     "execution_count": 7,
     "metadata": {},
     "output_type": "execute_result"
    }
   ],
   "source": [
    "type(data)"
   ]
  },
  {
   "cell_type": "code",
   "execution_count": 8,
   "id": "cd2380b6-a503-4add-9d17-ed074834d538",
   "metadata": {},
   "outputs": [
    {
     "data": {
      "text/plain": [
       "dict_keys(['data', 'location'])"
      ]
     },
     "execution_count": 8,
     "metadata": {},
     "output_type": "execute_result"
    }
   ],
   "source": [
    "data.keys()"
   ]
  },
  {
   "cell_type": "code",
   "execution_count": 9,
   "id": "a4972d96-a007-4024-9d95-cef3441f7a14",
   "metadata": {},
   "outputs": [
    {
     "data": {
      "text/plain": [
       "dict_keys(['time', 'values'])"
      ]
     },
     "execution_count": 9,
     "metadata": {},
     "output_type": "execute_result"
    }
   ],
   "source": [
    "data['data'].keys()"
   ]
  },
  {
   "cell_type": "code",
   "execution_count": 10,
   "id": "13b47b02-f874-4ee7-a1ae-4e40ed70dcc3",
   "metadata": {},
   "outputs": [
    {
     "data": {
      "text/plain": [
       "dict_keys(['cloudBase', 'cloudCeiling', 'cloudCover', 'dewPoint', 'freezingRainIntensity', 'humidity', 'precipitationProbability', 'pressureSeaLevel', 'pressureSurfaceLevel', 'rainIntensity', 'sleetIntensity', 'snowIntensity', 'temperature', 'temperatureApparent', 'uvHealthConcern', 'uvIndex', 'visibility', 'weatherCode', 'windDirection', 'windGust', 'windSpeed'])"
      ]
     },
     "execution_count": 10,
     "metadata": {},
     "output_type": "execute_result"
    }
   ],
   "source": [
    "data['data']['values'].keys()"
   ]
  },
  {
   "cell_type": "code",
   "execution_count": 11,
   "id": "daa74e69-9b25-4abd-bc1a-d8bb92188c70",
   "metadata": {},
   "outputs": [],
   "source": [
    "#printing the current temperature in Etobicoke"
   ]
  },
  {
   "cell_type": "code",
   "execution_count": 12,
   "id": "1ebf9c02-d699-49ce-85e9-7521a6adf4c5",
   "metadata": {},
   "outputs": [
    {
     "data": {
      "text/plain": [
       "'The temperature in Etobicoke, ON is currently 21.6 degrees C.'"
      ]
     },
     "execution_count": 12,
     "metadata": {},
     "output_type": "execute_result"
    }
   ],
   "source": [
    "f'The temperature in Etobicoke, ON is currently {data['data']['values']['temperature']} degrees C.'"
   ]
  },
  {
   "cell_type": "markdown",
   "id": "fef9a290-b90c-4da9-ada4-79dedf15e2bc",
   "metadata": {},
   "source": [
    "**Question 4:** Print out the country this location is in.\n"
   ]
  },
  {
   "cell_type": "code",
   "execution_count": 13,
   "id": "6acbaf19-5cc0-43ab-912e-c421fbb80260",
   "metadata": {},
   "outputs": [
    {
     "data": {
      "text/plain": [
       "{'lat': 43.6435546875,\n",
       " 'lon': -79.56563568115234,\n",
       " 'name': 'Etobicoke, Toronto, Golden Horseshoe, Ontario, Canada',\n",
       " 'type': 'administrative'}"
      ]
     },
     "execution_count": 13,
     "metadata": {},
     "output_type": "execute_result"
    }
   ],
   "source": [
    "#looking at location data\n",
    "\n",
    "data['location']"
   ]
  },
  {
   "cell_type": "code",
   "execution_count": 14,
   "id": "2aa0b1dd-6298-44d6-a190-09e06318a676",
   "metadata": {},
   "outputs": [],
   "source": [
    "#I am not 100% sure how to isolate the country, so I will print the full location"
   ]
  },
  {
   "cell_type": "code",
   "execution_count": 15,
   "id": "8c3695ed-34d5-4340-8c92-01d8c7927039",
   "metadata": {},
   "outputs": [
    {
     "data": {
      "text/plain": [
       "'The full location name for this weather information is: Etobicoke, Toronto, Golden Horseshoe, Ontario, Canada'"
      ]
     },
     "execution_count": 15,
     "metadata": {},
     "output_type": "execute_result"
    }
   ],
   "source": [
    "f'The full location name for this weather information is: {data['location']['name']}'"
   ]
  },
  {
   "cell_type": "markdown",
   "id": "7af87e8b-50ae-4399-ae0f-7c6c00ff0050",
   "metadata": {},
   "source": [
    "**Question 5:** Print out the difference between the current temperature and how warm it feels."
   ]
  },
  {
   "cell_type": "code",
   "execution_count": 16,
   "id": "80d68c23-66c6-4ee7-b342-bcaf0f9f9709",
   "metadata": {},
   "outputs": [],
   "source": [
    "#per list of keys in documentation, I need to compare 'temperature' and 'temperatureApparent'"
   ]
  },
  {
   "cell_type": "code",
   "execution_count": 17,
   "id": "042c8d1a-8e73-4713-b7e7-c87c6defbdcb",
   "metadata": {},
   "outputs": [],
   "source": [
    "#going to simplify for myself a little by making a weather variable\n",
    "weather=data['data']['values']\n",
    "\n",
    "#compare temps\n",
    "temp_diff=weather['temperatureApparent']-weather['temperature']"
   ]
  },
  {
   "cell_type": "code",
   "execution_count": 18,
   "id": "64bb0e02-d3f2-44f4-b100-77c59d8382c5",
   "metadata": {},
   "outputs": [
    {
     "name": "stdout",
     "output_type": "stream",
     "text": [
      "The feels like and actual temperatures are currently the same in Etobicoke.\n"
     ]
    }
   ],
   "source": [
    "#now the comparing and printing\n",
    "if temp_diff > 0:\n",
    "    print(f'It currently feels {temp_diff} degrees warmer than the actual temperature in Etobicoke.')\n",
    "elif temp_diff < 0:\n",
    "    print(f'It currently feels {abs(temp_diff)} degrees cooler than the actual temperature in Etobicoke.')\n",
    "elif temp_diff == 0:\n",
    "    print(\"The feels like and actual temperatures are currently the same in Etobicoke.\")"
   ]
  },
  {
   "cell_type": "markdown",
   "id": "f88a5611-b758-4f71-b533-51aab1c94141",
   "metadata": {},
   "source": [
    "**Question 6:** What's the current temperature at Heathrow International Airport? Use the airport's IATA code to search."
   ]
  },
  {
   "cell_type": "code",
   "execution_count": 19,
   "id": "ad02ea7e-1ffb-4d5e-ad2d-5732ef47133e",
   "metadata": {},
   "outputs": [],
   "source": [
    "#make a new request"
   ]
  },
  {
   "cell_type": "code",
   "execution_count": 20,
   "id": "0dbb1654-621c-43c6-8253-3396bbbab990",
   "metadata": {},
   "outputs": [],
   "source": [
    "url = f\"https://api.tomorrow.io/v4/weather/realtime?location=heathrow%airport&apikey={API_KEY}&units=metric\"\n",
    "headers = {\n",
    "    \"accept\": \"application/json\",\n",
    "    \"accept-encoding\": \"deflate, gzip, br\"\n",
    "}\n",
    "\n",
    "response = requests.get(url, headers=headers)\n",
    "data = response.json()"
   ]
  },
  {
   "cell_type": "code",
   "execution_count": 21,
   "id": "78c93b1e-48f3-442c-a65e-a6d9fff10ee7",
   "metadata": {},
   "outputs": [
    {
     "data": {
      "text/plain": [
       "{'data': {'time': '2025-06-10T18:42:00Z',\n",
       "  'values': {'cloudBase': 1.5,\n",
       "   'cloudCeiling': 12.5,\n",
       "   'cloudCover': 55,\n",
       "   'dewPoint': 13.5,\n",
       "   'freezingRainIntensity': 0,\n",
       "   'humidity': 60,\n",
       "   'precipitationProbability': 0,\n",
       "   'pressureSeaLevel': 1018.33,\n",
       "   'pressureSurfaceLevel': 1018.25,\n",
       "   'rainIntensity': 0,\n",
       "   'sleetIntensity': 0,\n",
       "   'snowIntensity': 0,\n",
       "   'temperature': 21.7,\n",
       "   'temperatureApparent': 21.7,\n",
       "   'uvHealthConcern': 0,\n",
       "   'uvIndex': 0,\n",
       "   'visibility': 16,\n",
       "   'weatherCode': 1101,\n",
       "   'windDirection': 2,\n",
       "   'windGust': 2.2,\n",
       "   'windSpeed': 0.7}},\n",
       " 'location': {'lat': 51.46773910522461,\n",
       "  'lon': -0.45878008008003235,\n",
       "  'name': 'London Heathrow Airport, Northern Perimeter Road, London Borough of Hillingdon, London, Greater London, England, TW6 2RN, United Kingdom',\n",
       "  'type': 'aerodrome'}}"
      ]
     },
     "execution_count": 21,
     "metadata": {},
     "output_type": "execute_result"
    }
   ],
   "source": [
    "data"
   ]
  },
  {
   "cell_type": "code",
   "execution_count": 22,
   "id": "374bfbd8-9325-481d-bd78-3c99dc55943e",
   "metadata": {},
   "outputs": [],
   "source": [
    "#print the temp"
   ]
  },
  {
   "cell_type": "code",
   "execution_count": 23,
   "id": "b7fa1c6e-a3e7-4052-848c-461aa3530b3b",
   "metadata": {},
   "outputs": [
    {
     "data": {
      "text/plain": [
       "'The current weather at Heathrow Airport is 21.7 degrees C.'"
      ]
     },
     "execution_count": 23,
     "metadata": {},
     "output_type": "execute_result"
    }
   ],
   "source": [
    "f\"The current weather at Heathrow Airport is {data['data']['values']['temperature']} degrees C.\""
   ]
  },
  {
   "cell_type": "markdown",
   "id": "6d3feccb-e0c6-417f-89c6-0e8266f5301d",
   "metadata": {},
   "source": [
    "**Question 7:** What URL would I use to request a 3-day forecast at Heathrow?"
   ]
  },
  {
   "cell_type": "code",
   "execution_count": 24,
   "id": "b0d301b8-81c8-44c9-b726-0fcfee22bb78",
   "metadata": {},
   "outputs": [],
   "source": [
    "url = f\"https://api.tomorrow.io/v4/weather/forecast?apikey={API_KEY}&location=heathrow%20airport&days=3\"\n",
    "headers = {\n",
    "    \"accept\": \"application/json\",\n",
    "    \"accept-encoding\": \"deflate, gzip, br\"\n",
    "}\n",
    "response = requests.get(url, headers=headers)\n",
    "data = response.json()"
   ]
  },
  {
   "cell_type": "markdown",
   "id": "630435d3-42d0-426f-8fc4-eaecedf55cab",
   "metadata": {},
   "source": [
    "**Question 8:** Print the date of each of the 3 days you're getting a forecast for."
   ]
  },
  {
   "cell_type": "code",
   "execution_count": 25,
   "id": "3e3bd001-0f58-41fd-9da4-2fd05fb4dea7",
   "metadata": {},
   "outputs": [],
   "source": [
    "#peer into the data layers"
   ]
  },
  {
   "cell_type": "code",
   "execution_count": 26,
   "id": "18e2270d-a678-4872-83d0-3b5a73343bbb",
   "metadata": {},
   "outputs": [
    {
     "data": {
      "text/plain": [
       "dict_keys(['timelines', 'location'])"
      ]
     },
     "execution_count": 26,
     "metadata": {},
     "output_type": "execute_result"
    }
   ],
   "source": [
    "data.keys()"
   ]
  },
  {
   "cell_type": "code",
   "execution_count": 27,
   "id": "9fa2e784-74b3-4dfb-b780-58c4ff548fac",
   "metadata": {},
   "outputs": [
    {
     "data": {
      "text/plain": [
       "dict_keys(['minutely', 'hourly', 'daily'])"
      ]
     },
     "execution_count": 27,
     "metadata": {},
     "output_type": "execute_result"
    }
   ],
   "source": [
    "data['timelines'].keys()"
   ]
  },
  {
   "cell_type": "code",
   "execution_count": 28,
   "id": "ed687b9d-a0f8-4d93-9222-d9cf31f6f8cd",
   "metadata": {},
   "outputs": [
    {
     "data": {
      "text/plain": [
       "dict_keys(['time', 'values'])"
      ]
     },
     "execution_count": 28,
     "metadata": {},
     "output_type": "execute_result"
    }
   ],
   "source": [
    "data['timelines']['daily'][0].keys()"
   ]
  },
  {
   "cell_type": "code",
   "execution_count": 29,
   "id": "c19b24d7-f9e8-45fe-8e2a-2d1c822cf849",
   "metadata": {},
   "outputs": [],
   "source": [
    "#Time will return the date in what looks to be a datetime format ** ITS ACTUALLY ISO??\n",
    "#'Daily' is a list with each item being a new day. Making it its own var for ease of typing\n",
    "#Loop through the days and print the date"
   ]
  },
  {
   "cell_type": "code",
   "execution_count": 30,
   "id": "ed9bdfa8-2e55-4961-a106-a66ec7261cfc",
   "metadata": {
    "scrolled": true
   },
   "outputs": [
    {
     "data": {
      "text/plain": [
       "6"
      ]
     },
     "execution_count": 30,
     "metadata": {},
     "output_type": "execute_result"
    }
   ],
   "source": [
    "len(data['timelines']['daily'])"
   ]
  },
  {
   "cell_type": "code",
   "execution_count": 31,
   "id": "a928b8b3-b87c-4cd2-81e2-dee931528009",
   "metadata": {},
   "outputs": [],
   "source": [
    "# I cannot for the life of me figure out how to limit the API to three days of data \n",
    "# So I'm going to make a work around for now"
   ]
  },
  {
   "cell_type": "code",
   "execution_count": 32,
   "id": "f94fb012-fbd3-456d-95c5-6e3e20752f2f",
   "metadata": {},
   "outputs": [],
   "source": [
    "import datetime"
   ]
  },
  {
   "cell_type": "code",
   "execution_count": 33,
   "id": "a7be0117-96fe-4d67-8f72-91e9dce8d645",
   "metadata": {},
   "outputs": [
    {
     "name": "stdout",
     "output_type": "stream",
     "text": [
      "This forecast is for the following days:\n",
      " Jun 11, 2025\n",
      " Jun 12, 2025\n",
      " Jun 13, 2025\n"
     ]
    }
   ],
   "source": [
    "print(\"This forecast is for the following days:\")\n",
    "days=data['timelines']['daily'][1:4]\n",
    "for day in days:\n",
    "    date=datetime.datetime.fromisoformat(day['time'])\n",
    "    print(f'{date: %b %d, %Y}') "
   ]
  },
  {
   "cell_type": "code",
   "execution_count": 34,
   "id": "a95ece6d-8b0a-4133-9cb2-1898295492aa",
   "metadata": {},
   "outputs": [],
   "source": [
    "# slicing...I had forgotten about it...neat trick...\n",
    "# I am starting from 1 deliberately becasuse 0 gives me today and that's boring to me\n",
    "# but I genuinely don't know if this is something the API can do? \n",
    "# I can't find anything in the docs about setting a days parameter or something equivalent"
   ]
  },
  {
   "cell_type": "markdown",
   "id": "f1019a73-4ff1-44f9-a221-558b56016058",
   "metadata": {},
   "source": [
    "**Question 9:** Print the maximum temperature of each of the days."
   ]
  },
  {
   "cell_type": "code",
   "execution_count": 35,
   "id": "e6ea0992-808a-4b08-8f1c-89faf2efd7f6",
   "metadata": {},
   "outputs": [],
   "source": [
    "# let's just test and see if 'temperatureMax' is really a thing first"
   ]
  },
  {
   "cell_type": "code",
   "execution_count": 36,
   "id": "68b5e996-3351-44b4-9ea1-207ff2777d9b",
   "metadata": {},
   "outputs": [
    {
     "data": {
      "text/plain": [
       "dict_keys(['time', 'values'])"
      ]
     },
     "execution_count": 36,
     "metadata": {},
     "output_type": "execute_result"
    }
   ],
   "source": [
    "days[0].keys()"
   ]
  },
  {
   "cell_type": "code",
   "execution_count": 37,
   "id": "fe5b12ef-ebff-488c-855b-03d113a8456e",
   "metadata": {
    "scrolled": true
   },
   "outputs": [
    {
     "data": {
      "text/plain": [
       "dict_keys(['cloudBaseAvg', 'cloudBaseMax', 'cloudBaseMin', 'cloudCeilingAvg', 'cloudCeilingMax', 'cloudCeilingMin', 'cloudCoverAvg', 'cloudCoverMax', 'cloudCoverMin', 'dewPointAvg', 'dewPointMax', 'dewPointMin', 'evapotranspirationAvg', 'evapotranspirationMax', 'evapotranspirationMin', 'evapotranspirationSum', 'freezingRainIntensityAvg', 'freezingRainIntensityMax', 'freezingRainIntensityMin', 'humidityAvg', 'humidityMax', 'humidityMin', 'iceAccumulationAvg', 'iceAccumulationLweAvg', 'iceAccumulationLweMax', 'iceAccumulationLweMin', 'iceAccumulationLweSum', 'iceAccumulationMax', 'iceAccumulationMin', 'iceAccumulationSum', 'moonriseTime', 'moonsetTime', 'precipitationProbabilityAvg', 'precipitationProbabilityMax', 'precipitationProbabilityMin', 'pressureSeaLevelAvg', 'pressureSeaLevelMax', 'pressureSeaLevelMin', 'pressureSurfaceLevelAvg', 'pressureSurfaceLevelMax', 'pressureSurfaceLevelMin', 'rainAccumulationAvg', 'rainAccumulationMax', 'rainAccumulationMin', 'rainAccumulationSum', 'rainIntensityAvg', 'rainIntensityMax', 'rainIntensityMin', 'sleetIntensityAvg', 'sleetIntensityMax', 'sleetIntensityMin', 'snowAccumulationAvg', 'snowAccumulationLweAvg', 'snowAccumulationLweMax', 'snowAccumulationLweMin', 'snowAccumulationLweSum', 'snowAccumulationMax', 'snowAccumulationMin', 'snowAccumulationSum', 'snowIntensityAvg', 'snowIntensityMax', 'snowIntensityMin', 'sunriseTime', 'sunsetTime', 'temperatureApparentAvg', 'temperatureApparentMax', 'temperatureApparentMin', 'temperatureAvg', 'temperatureMax', 'temperatureMin', 'uvHealthConcernAvg', 'uvHealthConcernMax', 'uvHealthConcernMin', 'uvIndexAvg', 'uvIndexMax', 'uvIndexMin', 'visibilityAvg', 'visibilityMax', 'visibilityMin', 'weatherCodeMax', 'weatherCodeMin', 'windDirectionAvg', 'windGustAvg', 'windGustMax', 'windGustMin', 'windSpeedAvg', 'windSpeedMax', 'windSpeedMin'])"
      ]
     },
     "execution_count": 37,
     "metadata": {},
     "output_type": "execute_result"
    }
   ],
   "source": [
    "days[0]['values'].keys()"
   ]
  },
  {
   "cell_type": "code",
   "execution_count": 38,
   "id": "9a221e94-4ccc-4ed0-9ad3-8aef8e8d6a18",
   "metadata": {},
   "outputs": [
    {
     "data": {
      "text/plain": [
       "23"
      ]
     },
     "execution_count": 38,
     "metadata": {},
     "output_type": "execute_result"
    }
   ],
   "source": [
    "days[0]['values']['temperatureMax']"
   ]
  },
  {
   "cell_type": "code",
   "execution_count": 39,
   "id": "0d8bf8ef-f489-4ea4-89db-08a0ee6bbe33",
   "metadata": {},
   "outputs": [],
   "source": [
    "# OK, it's real\n",
    "# Now we print it for each day"
   ]
  },
  {
   "cell_type": "code",
   "execution_count": 40,
   "id": "a950a94d-cc9f-49cd-8002-58915823f0d2",
   "metadata": {},
   "outputs": [
    {
     "name": "stdout",
     "output_type": "stream",
     "text": [
      "The high for Jun 11, 2025 is 23 degrees C.\n",
      "The high for Jun 12, 2025 is 24.9 degrees C.\n",
      "The high for Jun 13, 2025 is 26.6 degrees C.\n"
     ]
    }
   ],
   "source": [
    "for day in days:\n",
    "    date=datetime.datetime.fromisoformat(day['time'])\n",
    "    max_temp=day['values']['temperatureMax']\n",
    "    print(f\"The high for {date:%b %d, %Y} is {max_temp} degrees C.\")"
   ]
  },
  {
   "cell_type": "markdown",
   "id": "c55c5a51-ba7a-4c6c-8fd0-11cb6ace286a",
   "metadata": {},
   "source": [
    "**Question 10:** Print only the day with the highest maximum temperature."
   ]
  },
  {
   "cell_type": "code",
   "execution_count": 41,
   "id": "7c4d1e5c-ea7d-40a6-916d-5fb711ed2afe",
   "metadata": {},
   "outputs": [],
   "source": [
    "# Will this be easier with my new skills?\n",
    "# I need to: \n",
    "# Step 1: find the max of temperatureMax in days list\n",
    "# Step 2: find the date corresponding to that temperatureMax\n",
    "# Step 3: print it"
   ]
  },
  {
   "cell_type": "code",
   "execution_count": 42,
   "id": "cfa874ab-5e56-4904-93fb-0d840ffd9205",
   "metadata": {
    "scrolled": true
   },
   "outputs": [],
   "source": [
    "# Use new skills to complete step 1. create new max_temp_day var to contain the very long dict result\n",
    "max_temp_day = max(days, key=lambda day: day['values']['temperatureMax'])"
   ]
  },
  {
   "cell_type": "code",
   "execution_count": 43,
   "id": "c4fe72e8-a07a-439e-877f-8f19d3483103",
   "metadata": {},
   "outputs": [],
   "source": [
    "# Step 2: put the date in its own var so we can make it look nice when printing\n",
    "max_date=datetime.datetime.fromisoformat(max_temp_day['time'])"
   ]
  },
  {
   "cell_type": "code",
   "execution_count": 44,
   "id": "16df67b9-e397-424f-9bb7-3803ffaab2ba",
   "metadata": {},
   "outputs": [
    {
     "data": {
      "text/plain": [
       "'The high for the next three days will be 26.6 degrees C on Jun 13, 2025'"
      ]
     },
     "execution_count": 44,
     "metadata": {},
     "output_type": "execute_result"
    }
   ],
   "source": [
    "# Step 3: printing\n",
    "f\"The high for the next three days will be {max_temp_day['values']['temperatureMax']} degrees C on {max_date:%b %d, %Y}\"\n"
   ]
  },
  {
   "cell_type": "code",
   "execution_count": 45,
   "id": "212f0668-5dcb-4e3a-a3c7-3462831ab59e",
   "metadata": {},
   "outputs": [],
   "source": [
    "#Huh, it was easier with my new skills!"
   ]
  },
  {
   "cell_type": "markdown",
   "id": "01faff1a-7ce4-4326-9c54-352acd46efe7",
   "metadata": {},
   "source": [
    "**Question 11:** Did you find this easier or more difficult than using the weatherapi.com, and why? Which would you recommend to someone interesting in building a tool around weather information?\n"
   ]
  },
  {
   "cell_type": "markdown",
   "id": "6bd0a437-8167-44a2-b20a-b0745151fef6",
   "metadata": {},
   "source": [
    "Weather API was easier. The data options made more sense to me and the tool to explore the API was just so much more straightforward, so I wasn't guessing as much. I'd recommend weatherapi.com for that reason alone."
   ]
  }
 ],
 "metadata": {
  "kernelspec": {
   "display_name": "Python 3 (ipykernel)",
   "language": "python",
   "name": "python3"
  },
  "language_info": {
   "codemirror_mode": {
    "name": "ipython",
    "version": 3
   },
   "file_extension": ".py",
   "mimetype": "text/x-python",
   "name": "python",
   "nbconvert_exporter": "python",
   "pygments_lexer": "ipython3",
   "version": "3.12.10"
  }
 },
 "nbformat": 4,
 "nbformat_minor": 5
}
